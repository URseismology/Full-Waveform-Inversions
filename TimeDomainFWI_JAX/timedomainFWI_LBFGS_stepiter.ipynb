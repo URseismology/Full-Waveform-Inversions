{
 "cells": [
  {
   "cell_type": "code",
   "execution_count": null,
   "metadata": {},
   "outputs": [],
   "source": [
    "###############################################################################################\n",
    "# Author: Sayan Kumar Swar\n",
    "# Published: 05/08/2025\n",
    "# University of Rochester\n",
    "###############################################################################################"
   ]
  },
  {
   "cell_type": "markdown",
   "metadata": {},
   "source": [
    "### Load Required Libraries"
   ]
  },
  {
   "cell_type": "code",
   "execution_count": 1,
   "metadata": {},
   "outputs": [],
   "source": [
    "%load_ext autoreload\n",
    "%autoreload 2\n",
    "\n",
    "\n",
    "import jax\n",
    "import jaxopt\n",
    "from jax import grad, jit, lax, nn\n",
    "from jax import numpy as jnp\n",
    "from jax import random, value_and_grad, vmap\n",
    "from jax.example_libraries import optimizers\n",
    "jax.config.update(\"jax_enable_x64\", True)\n",
    "import numpy as np\n",
    "\n",
    "from utils.sample_circle import *\n",
    "from utils.gaussPulse import *\n",
    "from utils.getSoundSpeed import *\n",
    "from utils.coreFWI import *\n",
    "from utils.visuals import *\n",
    "\n",
    "import h5py\n",
    "import numpy as np\n",
    "import time as tt\n",
    "from PIL import Image\n",
    "import glob\n",
    "import matplotlib.pyplot as plt \n",
    "from matplotlib.gridspec import GridSpec\n",
    "from mpl_toolkits.axes_grid1 import make_axes_locatable\n",
    "from scipy.spatial import cKDTree\n",
    "from scipy.interpolate import interp1d\n",
    "from tqdm import tqdm\n",
    "from IPython.display import display"
   ]
  },
  {
   "cell_type": "markdown",
   "metadata": {},
   "source": [
    "### Load Recorded Channel Data Details"
   ]
  },
  {
   "cell_type": "code",
   "execution_count": 2,
   "metadata": {},
   "outputs": [
    {
     "name": "stderr",
     "output_type": "stream",
     "text": [
      "An NVIDIA GPU may be present on this machine, but a CUDA-enabled jaxlib is not installed. Falling back to cpu.\n"
     ]
    }
   ],
   "source": [
    "with h5py.File('data/RecordedData.mat', 'r') as f:\n",
    "    x_np = f['x'][:]     \n",
    "    y_np = f['y'][:]     \n",
    "    C_np = f['C'][:]     \n",
    "    x_circ_np = f['x_circ'][:]     \n",
    "    y_circ_np = f['y_circ'][:]     \n",
    "    tx_include_np = f['tx_include'][:]     \n",
    "    time_np = f['time'][:]     \n",
    "    channelData_np = f['channelData'][:]     \n",
    "\n",
    "x = jnp.array(x_np)\n",
    "y = jnp.array(y_np)\n",
    "C = jnp.array(C_np)\n",
    "x_circ = jnp.array(x_circ_np)\n",
    "y_circ = jnp.array(y_circ_np)\n",
    "tx_include = jnp.array(tx_include_np)\n",
    "tx_include = tx_include.astype('int64')\n",
    "tx_include = tx_include-1\n",
    "\n",
    "time = jnp.array(time_np)\n",
    "channelData_np = channelData_np.transpose(tuple(range(channelData_np.ndim))[::-1])\n",
    "channelData = jnp.array(channelData_np)\n"
   ]
  },
  {
   "cell_type": "markdown",
   "metadata": {},
   "source": [
    "### Get the Sensor Locations to Include and the ones to Exclude"
   ]
  },
  {
   "cell_type": "code",
   "execution_count": 3,
   "metadata": {},
   "outputs": [
    {
     "name": "stdout",
     "output_type": "stream",
     "text": [
      "<class 'jaxlib.xla_extension.ArrayImpl'>\n"
     ]
    },
    {
     "data": {
      "image/png": "[encoded data removed]",
      "text/plain": [
       "<Figure size 400x300 with 2 Axes>"
      ]
     },
     "metadata": {},
     "output_type": "display_data"
    }
   ],
   "source": [
    "time_orig = time\n",
    "time_orig = time_orig.reshape(-1)\n",
    "numElements = len(x_circ_np)\n",
    "\n",
    "numElemLeftRightExcl = 31\n",
    "elemLeftRightExcl = np.arange(-numElemLeftRightExcl,numElemLeftRightExcl+1)\n",
    "elemInclude = np.full((numElements, numElements), True)\n",
    "\n",
    "for tx_element in range(0,numElements):\n",
    "    elemLeftRightExclCurrent = elemLeftRightExcl + tx_element\n",
    "    \n",
    "    elemLeftRightExclCurrent[np.where(elemLeftRightExclCurrent<0)[0]] = (numElements) \\\n",
    "                                    + elemLeftRightExclCurrent[np.where(elemLeftRightExclCurrent<0)[0]]\n",
    "    \n",
    "    elemLeftRightExclCurrent[np.where(elemLeftRightExclCurrent>(numElements-1))[0]] = \\\n",
    "                        elemLeftRightExclCurrent[np.where(elemLeftRightExclCurrent>(numElements-1))[0]] - (numElements)\n",
    "    \n",
    "    elemInclude[tx_element,elemLeftRightExclCurrent] = False\n",
    "\n",
    "elemInclude = jnp.array(elemInclude)\n",
    "print(type(elemInclude))\n",
    "\n",
    "plt.figure(figsize=(4,3))\n",
    "plt.pcolormesh(elemInclude)\n",
    "plt.colorbar()\n",
    "plt.show()"
   ]
  },
  {
   "cell_type": "markdown",
   "metadata": {},
   "source": [
    "### Setting up the Simulation"
   ]
  },
  {
   "cell_type": "code",
   "execution_count": 4,
   "metadata": {},
   "outputs": [],
   "source": [
    "## Computational Grid (and Element Placement on Grid) for Reconstruction\n",
    "dxi = 2.0e-3\n",
    "dyi = 2.0e-3\n",
    "xmax = 141e-3\n",
    "\n",
    "xi = jnp.arange(-xmax, xmax + dxi, dxi)   \n",
    "yi = xi.copy()                            \n",
    "Nxi = xi.size\n",
    "Nyi = yi.size\n",
    "Xi, Yi = jnp.meshgrid(xi, yi, indexing='xy')\n",
    "\n",
    "tree_x = cKDTree(xi[:, None])\n",
    "tree_y = cKDTree(yi[:, None])\n",
    "\n",
    "x_idx = tree_x.query(x_circ[:, None])[1]\n",
    "y_idx = tree_y.query(y_circ[:, None])[1]\n",
    "ind = x_idx * Nyi + y_idx\n",
    "x_idx, y_idx, ind = jnp.array(x_idx), jnp.array(y_idx), jnp.array(ind)\n",
    "\n",
    "\n",
    "## Determine Time Step\n",
    "CFL = 0.3; #Hard-coded CFL number \n",
    "c_init = 1480; #Initial Homogeneous Sound Speed [m/s] Guess\n",
    "dtmax = CFL*dxi/c_init; #CFL = c*dt/dx\n",
    "\n",
    "## Transmit Pulse\n",
    "fctr = 0.2e6; # Center Frequency [Hz]\n",
    "fracBW = 0.5; # Fractional Bandwidth\n",
    "tc = gauspuls_cutoff(fctr, fracBW)\n",
    "\n",
    "## Time Axis\n",
    "distmax = jnp.maximum(Nxi*dxi,Nyi*dyi)\n",
    "c_min = jnp.min(C)\n",
    "tend = tc + distmax / c_min\n",
    "Nt = int(jnp.ceil(tend / dtmax)) + 1\n",
    "dt = tend / (Nt - 1)\n",
    "time = jnp.arange(0, Nt) * dt - tc\n",
    "src_pulse = gauspuls(time, fctr, fracBW)\n",
    "\n",
    "## Simulate Parameters\n",
    "a0 = 0.02; #PML Constant\n",
    "L_PML = 30.0e-3; #Thickness of PML  "
   ]
  },
  {
   "cell_type": "code",
   "execution_count": 5,
   "metadata": {},
   "outputs": [
    {
     "name": "stdout",
     "output_type": "stream",
     "text": [
      "(522, 256, 64)\n"
     ]
    }
   ],
   "source": [
    "## Interpolate Recorded Channel Data onto New Time Axis\n",
    "## Need this part to Vectorize later\n",
    "time_orig_np = time_np\n",
    "time_new_np = np.array(time)\n",
    "\n",
    "spline_interp = interp1d(\n",
    "    time_orig_np.reshape(-1),\n",
    "    channelData_np,\n",
    "    kind='cubic',        \n",
    "    axis=0,              \n",
    "    fill_value='extrapolate' \n",
    ")\n",
    "REC_DATA = spline_interp(time_new_np.reshape(-1))\n",
    "print(REC_DATA.shape)\n",
    "\n",
    "## Masking the Observations for the Receivers too close to the Transmitters\n",
    "for tx_idx in range(0,len(tx_include)):\n",
    "    for rx_idx in range(0,numElements):\n",
    "        if ~elemInclude[tx_include[tx_idx],rx_idx]:\n",
    "            REC_DATA[:, rx_idx, tx_idx] = 0\n",
    "\n",
    "REC_DATA = jnp.array(REC_DATA)\n",
    "REC_DATA_FT = jnp.fft.fft(REC_DATA, axis=0)\n",
    "\n",
    "## Get the velocity estimation\n",
    "VEL_ESTIM = c_init*jnp.ones([Nyi,Nxi])\n",
    "SLOW_ESTIM = 1/VEL_ESTIM\n"
   ]
  },
  {
   "cell_type": "code",
   "execution_count": 6,
   "metadata": {},
   "outputs": [
    {
     "data": {
      "text/plain": [
       "(1, 256, 64)"
      ]
     },
     "execution_count": 6,
     "metadata": {},
     "output_type": "execute_result"
    }
   ],
   "source": [
    "## Creating the Mask to exclude boundary receivers\n",
    "mask = elemInclude[tx_include.reshape(-1), :].T[None,:,:]\n",
    "mask.shape"
   ]
  },
  {
   "cell_type": "markdown",
   "metadata": {},
   "source": [
    "#### Visualizing the Source and Receiver Elements in the Array"
   ]
  },
  {
   "cell_type": "code",
   "execution_count": 7,
   "metadata": {},
   "outputs": [
    {
     "data": {
      "image/png": "[encoded data removed]",
      "text/plain": [
       "<Figure size 400x400 with 1 Axes>"
      ]
     },
     "metadata": {},
     "output_type": "display_data"
    },
    {
     "data": {
      "text/plain": [
       "<Figure size 400x400 with 0 Axes>"
      ]
     },
     "metadata": {},
     "output_type": "display_data"
    }
   ],
   "source": [
    "fig, ax = plt.subplots(figsize=(4, 4))\n",
    "masktemp = elemInclude[tx_include[0]].T\n",
    "plt.scatter(x_circ[masktemp],   y_circ[masktemp],   c='blue',   label='included', s=10, marker='x')\n",
    "plt.scatter(x_circ[tx_include[0]], y_circ[tx_include[0]], c='r',   label='included', s=15, marker='o')\n",
    "plt.title('Source-Red and Receivers-Blue locations', fontsize=9)\n",
    "ax.set_xlabel('x')\n",
    "ax.set_ylabel('y')\n",
    "title = ax.set_title('Transmitter Locations', fontsize=9)\n",
    "\n",
    "display_handle = display(fig, display_id='wavefield')\n",
    "for i in tx_include[1:]:\n",
    "    masktemp = elemInclude[i].T\n",
    "    plt.scatter(x_idx[i], y_idx[i], c='r',   label='included', s=15, marker='o')\n",
    "    plt.scatter(x_idx[masktemp],   y_idx[masktemp],   c='blue',   label='included', s=10, marker='x')\n",
    "    plt.title('Source-Red and Receivers-Blue locations', fontsize=9)\n",
    "\n",
    "    display_handle.update(fig)\n",
    "    plt.clf()\n",
    "    tt.sleep(0.1)\n",
    "    \n",
    "plt.show()"
   ]
  },
  {
   "cell_type": "markdown",
   "metadata": {},
   "source": [
    "### The Inverse Problem"
   ]
  },
  {
   "cell_type": "code",
   "execution_count": 8,
   "metadata": {},
   "outputs": [],
   "source": [
    "getTimeStepping_vec_jit = jax.jit(getTimeStepping_vec)\n",
    "\n",
    "@jax.jit\n",
    "def simulate_fwd(tx:int, VEL_ESTIM: jnp.ndarray) -> jnp.ndarray:\n",
    "\n",
    "    SRC = jnp.zeros([Nyi, Nxi, Nt])\n",
    "    SRC = SRC.at[y_idx[tx], x_idx[tx], :].set(src_pulse)\n",
    "    SRC = jnp.expand_dims(SRC,-1)\n",
    "\n",
    "    WVFIELD_T = getTimeStepping_vec_jit(xi, yi, VEL_ESTIM, SRC, time, a0, L_PML, 0)\n",
    "    WVFIELD_T = jnp.squeeze(WVFIELD_T)\n",
    "\n",
    "    REC_SIM = jnp.squeeze(WVFIELD_T[y_idx, x_idx, :],1).T\n",
    "    REC_SIM_FFT = jnp.fft.fft(REC_SIM, axis=0)\n",
    "\n",
    "    return REC_SIM_FFT                                                      #Dim: Time Series-Receivers\n",
    "\n",
    "#simulate_fwd_all: Dim: Time Series-Receivers-Transmitters\n",
    "simulate_fwd_all = jax.jit(jax.vmap(simulate_fwd, in_axes=(0,None), out_axes=-1))\n",
    "\n",
    "\n",
    "@jax.jit\n",
    "def loss_function(VEL_ESTIM):\n",
    "\n",
    "    ## Calling Forward Operation\n",
    "    pred = simulate_fwd_all(tx_include, VEL_ESTIM)                          #Dim: Time Series-Receivers-Transmitters\n",
    "    obs  = REC_DATA_FT                                                      #Dim: Time Series-Receivers-Transmitters\n",
    "    \n",
    "    ## Masking the Receivers too close to the Transmitter (Observatons has been masked before)\n",
    "    pred = pred * mask                                                        \n",
    "\n",
    "    ## Permforming source estimation\n",
    "    num = jnp.sum(jnp.conj(pred) * obs, axis=(1))                           #Dim: Time Series-1-Transmitters\n",
    "    den = jnp.sum(jnp.conj(pred) * pred, axis=(1))                          #Dim: Time Series-1-Transmitters\n",
    "    alpha = num / den                                \n",
    "    pred_corr = pred * alpha[:, None, :]\n",
    "    \n",
    "    ## Converting to Time Domain Back: but not needed now\n",
    "    #pred_corr = jnp.real(jnp.fft.ifft(pred_corr, axis=0))\n",
    "    #obs = jnp.real(jnp.fft.ifft(obs, axis=0))\n",
    "\n",
    "    ## Calculating the Loss and the Loss Abs Frobenius Norm\n",
    "    resid = pred_corr - obs\n",
    "    return jnp.vdot(resid, resid).real\n",
    "\n",
    "\n",
    "loss_fn_jit = jax.jit(loss_function)\n"
   ]
  },
  {
   "cell_type": "code",
   "execution_count": 9,
   "metadata": {},
   "outputs": [
    {
     "name": "stdout",
     "output_type": "stream",
     "text": [
      "initial loss: 2.682319869842298e-08 grad norm: 1.286788995253227e-11\n"
     ]
    }
   ],
   "source": [
    "## Getting gradient and Loss before optimization\n",
    "VEL_UPD = VEL_ESTIM.copy()\n",
    "grad_img = jax.grad(loss_fn_jit)(VEL_UPD)\n",
    "L0 = loss_fn_jit(VEL_UPD)\n",
    "g0 = jnp.linalg.norm(grad_img)\n",
    "print(\"initial loss:\", L0, \"grad norm:\", g0)"
   ]
  },
  {
   "cell_type": "code",
   "execution_count": 10,
   "metadata": {},
   "outputs": [
    {
     "name": "stdout",
     "output_type": "stream",
     "text": [
      "Iteration = 0 and Grad Norm = 1.286788995253227e-11\n",
      "Iteration = 1 and Grad Norm = 1.2867889952532249e-11\n",
      "Iteration = 2 and Grad Norm = 9.849715171855211e-12\n",
      "Iteration = 3 and Grad Norm = 8.523721576578058e-12\n",
      "Iteration = 4 and Grad Norm = 6.278992719939018e-12\n",
      "Iteration = 5 and Grad Norm = 3.862127241274831e-12\n",
      "Iteration = 6 and Grad Norm = 3.8251590290512246e-12\n",
      "Iteration = 7 and Grad Norm = 3.763462122532505e-12\n",
      "Iteration = 8 and Grad Norm = 2.7567556565061507e-12\n",
      "Iteration = 9 and Grad Norm = 3.966244946740132e-12\n",
      "Iteration = 10 and Grad Norm = 1.554615646268716e-12\n",
      "Iteration = 11 and Grad Norm = 1.1169889582792e-12\n",
      "Iteration = 12 and Grad Norm = 1.269477872474785e-12\n",
      "Iteration = 13 and Grad Norm = 2.393683877818739e-12\n",
      "Iteration = 14 and Grad Norm = 1.0286270181880723e-12\n",
      "Iteration = 15 and Grad Norm = 8.42092874052543e-13\n",
      "Iteration = 16 and Grad Norm = 9.866913205980645e-13\n",
      "Iteration = 17 and Grad Norm = 1.877261312655383e-12\n",
      "Iteration = 18 and Grad Norm = 9.404354227824479e-13\n",
      "Iteration = 19 and Grad Norm = 7.040326914568745e-13\n",
      "Iteration Ended\n",
      "Initial loss: 2.682319869842298e-08\n",
      "Final loss: 8.341712413649864e-09\n"
     ]
    }
   ],
   "source": [
    "## Running Optimization in Loop and Saving the Results in a Folder\n",
    "max_iterations = 20\n",
    "solver = jaxopt.LBFGS(fun=loss_fn_jit)\n",
    "state = solver.init_state(VEL_UPD)\n",
    "\n",
    "\n",
    "for iteration in range(max_iterations):\n",
    "    image_grad = jax.grad(loss_fn_jit)(VEL_UPD)\n",
    "    VEL_UPD, state  = solver.update(VEL_UPD, state)\n",
    "    print(f\"Iteration = {iteration} and Grad Norm = {jnp.linalg.norm(image_grad)}\")\n",
    "    \n",
    "    ## Plotting\n",
    "    fig, (ax1, ax2) = plt.subplots(1, 2, figsize=(12, 5), layout=\"tight\")\n",
    "    im1 = ax1.imshow(\n",
    "        image_grad,\n",
    "        cmap='gray',\n",
    "        extent=[xi.min(), xi.max(), yi.min(), yi.max()]\n",
    "    )\n",
    "    ax1.set_xlabel('Lateral[m]')\n",
    "    ax1.set_ylabel('Axial[m]')\n",
    "    divider = make_axes_locatable(ax1)\n",
    "    cax1 = divider.append_axes('right', size='5%', pad=0.05)\n",
    "    fig.colorbar(im1, cax=cax1)\n",
    "    ax1.set_title(f'Gradient Image at Iteration = {iteration}', fontsize=9)\n",
    "\n",
    "    im2 = ax2.imshow(\n",
    "        VEL_UPD,\n",
    "        cmap='gray',\n",
    "        vmin = 1400,\n",
    "        vmax = 1600, \n",
    "        extent=[xi.min(), xi.max(), yi.min(), yi.max()]\n",
    "    )\n",
    "    ax2.set_xlabel('Lateral[m]')\n",
    "    ax2.set_ylabel('Axial[m]')\n",
    "    divider = make_axes_locatable(ax2)\n",
    "    cax2 = divider.append_axes('right', size='5%', pad=0.05)\n",
    "    fig.colorbar(im2, cax=cax2)\n",
    "    ax2.set_title(f'Velocity Estimate at Iteration = {iteration}', fontsize=9)\n",
    "\n",
    "    fig.savefig(f'/home/urseismoadmin/Documents/INV_PRB_IMG/results/lbfgs_iterations/{iteration:003}') #dpi=200\n",
    "    plt.close(fig)\n",
    "    \n",
    "\n",
    "LFnl = loss_fn_jit(VEL_UPD)\n",
    "print('Iteration Ended')\n",
    "print(\"Initial loss:\", L0)\n",
    "print(\"Final loss:\", LFnl)"
   ]
  },
  {
   "cell_type": "markdown",
   "metadata": {},
   "source": [
    "### Generate GIF of the Solution\n"
   ]
  },
  {
   "cell_type": "code",
   "execution_count": 15,
   "metadata": {},
   "outputs": [],
   "source": [
    "make_gif('results/lbfgs_iterations/*.png',\n",
    "        'results/lbfgs_solver_solution.gif', dur=1000)\n"
   ]
  },
  {
   "cell_type": "code",
   "execution_count": null,
   "metadata": {},
   "outputs": [],
   "source": []
  }
 ],
 "metadata": {
  "kernelspec": {
   "display_name": "Python 3 (ipykernel)",
   "language": "python",
   "name": "python3"
  }
 },
 "nbformat": 4,
 "nbformat_minor": 2
}
